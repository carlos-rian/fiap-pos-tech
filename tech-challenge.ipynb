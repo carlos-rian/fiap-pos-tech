{
 "cells": [
  {
   "cell_type": "markdown",
   "metadata": {},
   "source": [
    "# ETL"
   ]
  },
  {
   "cell_type": "markdown",
   "metadata": {},
   "source": [
    "## LOAD DATA\n",
    "---"
   ]
  },
  {
   "cell_type": "markdown",
   "metadata": {},
   "source": [
    "### Install the required packages"
   ]
  },
  {
   "cell_type": "code",
   "execution_count": null,
   "metadata": {},
   "outputs": [],
   "source": [
    "pip install -r requirements.txt"
   ]
  },
  {
   "cell_type": "markdown",
   "metadata": {},
   "source": [
    "### Import and read the csv file"
   ]
  },
  {
   "cell_type": "code",
   "execution_count": 3,
   "metadata": {},
   "outputs": [],
   "source": [
    "import pandas as pd\n",
    "\n",
    "raw = pd.read_csv(\"insurance.csv\")"
   ]
  },
  {
   "cell_type": "markdown",
   "metadata": {},
   "source": [
    "## TRANSFORM DATA\n",
    "--- "
   ]
  },
  {
   "cell_type": "markdown",
   "metadata": {},
   "source": [
    "### Rename the English column names to Portuguese language"
   ]
  },
  {
   "cell_type": "code",
   "execution_count": 4,
   "metadata": {},
   "outputs": [],
   "source": [
    "raw.rename(\n",
    "    columns={\n",
    "        \"age\": \"idade\",\n",
    "        \"sex\": \"genero\",\n",
    "        \"bmi\": \"imc\",\n",
    "        \"children\": \"filhos\",\n",
    "        \"smoker\": \"fumante\",\n",
    "        \"region\": \"regiao\",\n",
    "        \"charges\": \"encargos\",\n",
    "    },\n",
    "    inplace=True,\n",
    ")"
   ]
  },
  {
   "cell_type": "markdown",
   "metadata": {},
   "source": [
    "### Convert the column names and values to Portuguese language"
   ]
  },
  {
   "cell_type": "code",
   "execution_count": 5,
   "metadata": {},
   "outputs": [
    {
     "data": {
      "text/html": [
       "<div>\n",
       "<style scoped>\n",
       "    .dataframe tbody tr th:only-of-type {\n",
       "        vertical-align: middle;\n",
       "    }\n",
       "\n",
       "    .dataframe tbody tr th {\n",
       "        vertical-align: top;\n",
       "    }\n",
       "\n",
       "    .dataframe thead th {\n",
       "        text-align: right;\n",
       "    }\n",
       "</style>\n",
       "<table border=\"1\" class=\"dataframe\">\n",
       "  <thead>\n",
       "    <tr style=\"text-align: right;\">\n",
       "      <th></th>\n",
       "      <th>idade</th>\n",
       "      <th>genero</th>\n",
       "      <th>imc</th>\n",
       "      <th>filhos</th>\n",
       "      <th>fumante</th>\n",
       "      <th>regiao</th>\n",
       "      <th>encargos</th>\n",
       "    </tr>\n",
       "  </thead>\n",
       "  <tbody>\n",
       "    <tr>\n",
       "      <th>0</th>\n",
       "      <td>19</td>\n",
       "      <td>feminino</td>\n",
       "      <td>27.900</td>\n",
       "      <td>0</td>\n",
       "      <td>sim</td>\n",
       "      <td>sudoeste</td>\n",
       "      <td>16884.92400</td>\n",
       "    </tr>\n",
       "    <tr>\n",
       "      <th>1</th>\n",
       "      <td>18</td>\n",
       "      <td>masculino</td>\n",
       "      <td>33.770</td>\n",
       "      <td>1</td>\n",
       "      <td>não</td>\n",
       "      <td>sudeste</td>\n",
       "      <td>1725.55230</td>\n",
       "    </tr>\n",
       "    <tr>\n",
       "      <th>2</th>\n",
       "      <td>28</td>\n",
       "      <td>masculino</td>\n",
       "      <td>33.000</td>\n",
       "      <td>3</td>\n",
       "      <td>não</td>\n",
       "      <td>sudeste</td>\n",
       "      <td>4449.46200</td>\n",
       "    </tr>\n",
       "    <tr>\n",
       "      <th>3</th>\n",
       "      <td>33</td>\n",
       "      <td>masculino</td>\n",
       "      <td>22.705</td>\n",
       "      <td>0</td>\n",
       "      <td>não</td>\n",
       "      <td>noroeste</td>\n",
       "      <td>21984.47061</td>\n",
       "    </tr>\n",
       "    <tr>\n",
       "      <th>4</th>\n",
       "      <td>32</td>\n",
       "      <td>masculino</td>\n",
       "      <td>28.880</td>\n",
       "      <td>0</td>\n",
       "      <td>não</td>\n",
       "      <td>noroeste</td>\n",
       "      <td>3866.85520</td>\n",
       "    </tr>\n",
       "    <tr>\n",
       "      <th>...</th>\n",
       "      <td>...</td>\n",
       "      <td>...</td>\n",
       "      <td>...</td>\n",
       "      <td>...</td>\n",
       "      <td>...</td>\n",
       "      <td>...</td>\n",
       "      <td>...</td>\n",
       "    </tr>\n",
       "    <tr>\n",
       "      <th>1333</th>\n",
       "      <td>50</td>\n",
       "      <td>masculino</td>\n",
       "      <td>30.970</td>\n",
       "      <td>3</td>\n",
       "      <td>não</td>\n",
       "      <td>noroeste</td>\n",
       "      <td>10600.54830</td>\n",
       "    </tr>\n",
       "    <tr>\n",
       "      <th>1334</th>\n",
       "      <td>18</td>\n",
       "      <td>feminino</td>\n",
       "      <td>31.920</td>\n",
       "      <td>0</td>\n",
       "      <td>não</td>\n",
       "      <td>nordeste</td>\n",
       "      <td>2205.98080</td>\n",
       "    </tr>\n",
       "    <tr>\n",
       "      <th>1335</th>\n",
       "      <td>18</td>\n",
       "      <td>feminino</td>\n",
       "      <td>36.850</td>\n",
       "      <td>0</td>\n",
       "      <td>não</td>\n",
       "      <td>sudeste</td>\n",
       "      <td>1629.83350</td>\n",
       "    </tr>\n",
       "    <tr>\n",
       "      <th>1336</th>\n",
       "      <td>21</td>\n",
       "      <td>feminino</td>\n",
       "      <td>25.800</td>\n",
       "      <td>0</td>\n",
       "      <td>não</td>\n",
       "      <td>sudoeste</td>\n",
       "      <td>2007.94500</td>\n",
       "    </tr>\n",
       "    <tr>\n",
       "      <th>1337</th>\n",
       "      <td>61</td>\n",
       "      <td>feminino</td>\n",
       "      <td>29.070</td>\n",
       "      <td>0</td>\n",
       "      <td>sim</td>\n",
       "      <td>noroeste</td>\n",
       "      <td>29141.36030</td>\n",
       "    </tr>\n",
       "  </tbody>\n",
       "</table>\n",
       "<p>1338 rows × 7 columns</p>\n",
       "</div>"
      ],
      "text/plain": [
       "      idade     genero     imc  filhos fumante    regiao     encargos\n",
       "0        19   feminino  27.900       0     sim  sudoeste  16884.92400\n",
       "1        18  masculino  33.770       1     não   sudeste   1725.55230\n",
       "2        28  masculino  33.000       3     não   sudeste   4449.46200\n",
       "3        33  masculino  22.705       0     não  noroeste  21984.47061\n",
       "4        32  masculino  28.880       0     não  noroeste   3866.85520\n",
       "...     ...        ...     ...     ...     ...       ...          ...\n",
       "1333     50  masculino  30.970       3     não  noroeste  10600.54830\n",
       "1334     18   feminino  31.920       0     não  nordeste   2205.98080\n",
       "1335     18   feminino  36.850       0     não   sudeste   1629.83350\n",
       "1336     21   feminino  25.800       0     não  sudoeste   2007.94500\n",
       "1337     61   feminino  29.070       0     sim  noroeste  29141.36030\n",
       "\n",
       "[1338 rows x 7 columns]"
      ]
     },
     "execution_count": 5,
     "metadata": {},
     "output_type": "execute_result"
    }
   ],
   "source": [
    "def region_replace(value):\n",
    "    return {\n",
    "        \"southwest\": \"sudoeste\",\n",
    "        \"southeast\": \"sudeste\",\n",
    "        \"northwest\": \"noroeste\",\n",
    "        \"northeast\": \"nordeste\",\n",
    "    }.get(value, value)\n",
    "\n",
    "\n",
    "raw[\"regiao\"] = raw[\"regiao\"].apply(region_replace)\n",
    "raw[\"genero\"] = raw[\"genero\"].apply(lambda value: \"masculino\" if value == \"male\" else \"feminino\")\n",
    "raw[\"fumante\"] = raw[\"fumante\"].apply(lambda value: \"sim\" if value == \"yes\" else \"não\")\n",
    "\n",
    "raw"
   ]
  }
 ],
 "metadata": {
  "kernelspec": {
   "display_name": "Python 3",
   "language": "python",
   "name": "python3"
  },
  "language_info": {
   "codemirror_mode": {
    "name": "ipython",
    "version": 3
   },
   "file_extension": ".py",
   "mimetype": "text/x-python",
   "name": "python",
   "nbconvert_exporter": "python",
   "pygments_lexer": "ipython3",
   "version": "3.10.12"
  }
 },
 "nbformat": 4,
 "nbformat_minor": 2
}
